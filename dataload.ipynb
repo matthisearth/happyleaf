{
 "cells": [
  {
   "cell_type": "code",
   "execution_count": 1,
   "metadata": {},
   "outputs": [],
   "source": [
    "# happyleaf\n",
    "# dataload.ipynb"
   ]
  },
  {
   "cell_type": "code",
   "execution_count": 2,
   "metadata": {},
   "outputs": [],
   "source": [
    "import numpy as np\n",
    "import cv2\n",
    "import os\n",
    "import pickle"
   ]
  },
  {
   "cell_type": "code",
   "execution_count": 3,
   "metadata": {},
   "outputs": [],
   "source": [
    "# Image size hyperparameter\n",
    "img_size = 64\n",
    "\n",
    "def get_image(image_path):\n",
    "    \"\"\"Get image and write RGB to numpy tensor of shape [img_size, img_size, 3]\"\"\"\n",
    "    image = cv2.imread(image_path)\n",
    "    rgb_image = image[..., :3]  # Exclude the alpha channel\n",
    "    return cv2.resize(rgb_image, (img_size, img_size)) / 256.0\n",
    "\n",
    "categories = [ x for x in os.listdir(\"data\") ]\n",
    "total_img_num = sum([ len(list(os.listdir(f\"data/{c}\"))) for c in categories ])\n",
    "\n",
    "xs_all = np.zeros([total_img_num, img_size, img_size, 3])\n",
    "data_indices_all = np.zeros([total_img_num, len(categories)])\n",
    "\n",
    "counter = 0\n",
    "for i, c in enumerate(categories):\n",
    "    for img_name in os.listdir(f\"data/{c}\"):\n",
    "        xs_all[counter, :, :, :] = get_image(f\"data/{c}/{img_name}\")\n",
    "        data_indices_all[counter, i] = 1.0\n",
    "        counter += 1\n",
    "\n",
    "with open(\"numpydata.pkl\", \"wb\") as f:\n",
    "    pickle.dump((xs_all, data_indices_all), f)"
   ]
  }
 ],
 "metadata": {
  "kernelspec": {
   "display_name": "Python 3",
   "language": "python",
   "name": "python3"
  },
  "language_info": {
   "codemirror_mode": {
    "name": "ipython",
    "version": 3
   },
   "file_extension": ".py",
   "mimetype": "text/x-python",
   "name": "python",
   "nbconvert_exporter": "python",
   "pygments_lexer": "ipython3",
   "version": "3.10.7"
  },
  "orig_nbformat": 4
 },
 "nbformat": 4,
 "nbformat_minor": 2
}
